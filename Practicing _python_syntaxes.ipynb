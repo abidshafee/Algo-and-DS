{
 "cells": [
  {
   "cell_type": "code",
   "execution_count": 30,
   "metadata": {},
   "outputs": [],
   "source": [
    "import numpy as np"
   ]
  },
  {
   "cell_type": "code",
   "execution_count": 50,
   "metadata": {},
   "outputs": [],
   "source": [
    "l = []"
   ]
  },
  {
   "cell_type": "code",
   "execution_count": 51,
   "metadata": {},
   "outputs": [],
   "source": [
    "a = np.random.randint(3, 45, 10)"
   ]
  },
  {
   "cell_type": "code",
   "execution_count": 52,
   "metadata": {},
   "outputs": [
    {
     "data": {
      "text/plain": [
       "array([12, 34, 17, 16, 16, 35, 19, 32, 31, 30])"
      ]
     },
     "execution_count": 52,
     "metadata": {},
     "output_type": "execute_result"
    }
   ],
   "source": [
    "a"
   ]
  },
  {
   "cell_type": "code",
   "execution_count": 53,
   "metadata": {},
   "outputs": [
    {
     "data": {
      "text/plain": [
       "12"
      ]
     },
     "execution_count": 53,
     "metadata": {},
     "output_type": "execute_result"
    }
   ],
   "source": [
    "a[0]"
   ]
  },
  {
   "cell_type": "code",
   "execution_count": 54,
   "metadata": {},
   "outputs": [
    {
     "data": {
      "text/plain": [
       "10"
      ]
     },
     "execution_count": 54,
     "metadata": {},
     "output_type": "execute_result"
    }
   ],
   "source": [
    "len(a)"
   ]
  },
  {
   "cell_type": "code",
   "execution_count": 56,
   "metadata": {},
   "outputs": [
    {
     "name": "stdout",
     "output_type": "stream",
     "text": [
      "12\n",
      "34\n",
      "17\n",
      "16\n",
      "16\n",
      "35\n",
      "19\n",
      "32\n",
      "31\n",
      "30\n"
     ]
    }
   ],
   "source": [
    "for i in a:\n",
    "    print(i)"
   ]
  },
  {
   "cell_type": "markdown",
   "metadata": {},
   "source": [
    "## Converitng array using indexing in For Loop"
   ]
  },
  {
   "cell_type": "code",
   "execution_count": 57,
   "metadata": {},
   "outputs": [],
   "source": [
    "# puting array eliment into list\n",
    "for i in a:\n",
    "    l.append(i)"
   ]
  },
  {
   "cell_type": "code",
   "execution_count": 58,
   "metadata": {},
   "outputs": [
    {
     "data": {
      "text/plain": [
       "[12, 34, 17, 16, 16, 35, 19, 32, 31, 30]"
      ]
     },
     "execution_count": 58,
     "metadata": {},
     "output_type": "execute_result"
    }
   ],
   "source": [
    "l"
   ]
  },
  {
   "cell_type": "code",
   "execution_count": 59,
   "metadata": {},
   "outputs": [
    {
     "data": {
      "text/plain": [
       "numpy.ndarray"
      ]
     },
     "execution_count": 59,
     "metadata": {},
     "output_type": "execute_result"
    }
   ],
   "source": [
    "type(a)"
   ]
  },
  {
   "cell_type": "code",
   "execution_count": 60,
   "metadata": {},
   "outputs": [
    {
     "data": {
      "text/plain": [
       "list"
      ]
     },
     "execution_count": 60,
     "metadata": {},
     "output_type": "execute_result"
    }
   ],
   "source": [
    "type(l)"
   ]
  },
  {
   "cell_type": "markdown",
   "metadata": {},
   "source": [
    "## Converting Array using tolist() function"
   ]
  },
  {
   "cell_type": "code",
   "execution_count": 61,
   "metadata": {},
   "outputs": [],
   "source": [
    "b = a.copy()"
   ]
  },
  {
   "cell_type": "code",
   "execution_count": 62,
   "metadata": {},
   "outputs": [
    {
     "data": {
      "text/plain": [
       "array([12, 34, 17, 16, 16, 35, 19, 32, 31, 30])"
      ]
     },
     "execution_count": 62,
     "metadata": {},
     "output_type": "execute_result"
    }
   ],
   "source": [
    "b"
   ]
  },
  {
   "cell_type": "code",
   "execution_count": 63,
   "metadata": {},
   "outputs": [],
   "source": [
    "#converting b array to list\n",
    "b = b.tolist()"
   ]
  },
  {
   "cell_type": "code",
   "execution_count": 64,
   "metadata": {},
   "outputs": [
    {
     "data": {
      "text/plain": [
       "[12, 34, 17, 16, 16, 35, 19, 32, 31, 30]"
      ]
     },
     "execution_count": 64,
     "metadata": {},
     "output_type": "execute_result"
    }
   ],
   "source": [
    "b"
   ]
  },
  {
   "cell_type": "markdown",
   "metadata": {},
   "source": [
    "## Explicit Implementation of Python Chache"
   ]
  },
  {
   "cell_type": "code",
   "execution_count": 10,
   "metadata": {},
   "outputs": [],
   "source": [
    "fibo_cache = {}\n",
    "\n",
    "def fibo_cv(n):\n",
    "    # if have cached value then directly return the value\n",
    "    if n in fibo_cache:\n",
    "        return fibo_cache[n]\n",
    "    \n",
    "    # otherwise compute fibonacci\n",
    "    if n==1:\n",
    "        val = 1\n",
    "    elif n==2:\n",
    "        val = 2\n",
    "    elif n>2:\n",
    "        val = fibo_cv(n-1) + fibo_cv(n-2)\n",
    "\n",
    "    # cache the value and return\n",
    "    fibo_cache[n] = val\n",
    "    return val"
   ]
  },
  {
   "cell_type": "code",
   "execution_count": 11,
   "metadata": {},
   "outputs": [
    {
     "name": "stdout",
     "output_type": "stream",
     "text": [
      "1 : 1\n",
      "2 : 2\n",
      "3 : 3\n",
      "4 : 5\n",
      "5 : 8\n",
      "6 : 13\n",
      "7 : 21\n",
      "8 : 34\n",
      "9 : 55\n",
      "10 : 89\n",
      "11 : 144\n",
      "12 : 233\n",
      "13 : 377\n",
      "14 : 610\n",
      "15 : 987\n",
      "16 : 1597\n",
      "17 : 2584\n",
      "18 : 4181\n",
      "19 : 6765\n",
      "20 : 10946\n",
      "21 : 17711\n",
      "22 : 28657\n",
      "23 : 46368\n",
      "24 : 75025\n",
      "25 : 121393\n",
      "26 : 196418\n",
      "27 : 317811\n",
      "28 : 514229\n",
      "29 : 832040\n",
      "30 : 1346269\n",
      "31 : 2178309\n",
      "32 : 3524578\n",
      "33 : 5702887\n",
      "34 : 9227465\n",
      "35 : 14930352\n",
      "36 : 24157817\n",
      "37 : 39088169\n",
      "38 : 63245986\n",
      "39 : 102334155\n",
      "40 : 165580141\n",
      "41 : 267914296\n",
      "42 : 433494437\n",
      "43 : 701408733\n",
      "44 : 1134903170\n",
      "45 : 1836311903\n",
      "46 : 2971215073\n",
      "47 : 4807526976\n",
      "48 : 7778742049\n",
      "49 : 12586269025\n",
      "50 : 20365011074\n",
      "51 : 32951280099\n",
      "52 : 53316291173\n",
      "53 : 86267571272\n",
      "54 : 139583862445\n",
      "55 : 225851433717\n",
      "56 : 365435296162\n",
      "57 : 591286729879\n",
      "58 : 956722026041\n",
      "59 : 1548008755920\n",
      "60 : 2504730781961\n",
      "61 : 4052739537881\n",
      "62 : 6557470319842\n",
      "63 : 10610209857723\n",
      "64 : 17167680177565\n",
      "65 : 27777890035288\n",
      "66 : 44945570212853\n",
      "67 : 72723460248141\n",
      "68 : 117669030460994\n",
      "69 : 190392490709135\n",
      "70 : 308061521170129\n",
      "71 : 498454011879264\n",
      "72 : 806515533049393\n",
      "73 : 1304969544928657\n",
      "74 : 2111485077978050\n",
      "75 : 3416454622906707\n",
      "76 : 5527939700884757\n",
      "77 : 8944394323791464\n",
      "78 : 14472334024676221\n",
      "79 : 23416728348467685\n",
      "80 : 37889062373143906\n",
      "81 : 61305790721611591\n",
      "82 : 99194853094755497\n",
      "83 : 160500643816367088\n",
      "84 : 259695496911122585\n",
      "85 : 420196140727489673\n",
      "86 : 679891637638612258\n",
      "87 : 1100087778366101931\n",
      "88 : 1779979416004714189\n",
      "89 : 2880067194370816120\n",
      "90 : 4660046610375530309\n",
      "91 : 7540113804746346429\n",
      "92 : 12200160415121876738\n",
      "93 : 19740274219868223167\n",
      "94 : 31940434634990099905\n",
      "95 : 51680708854858323072\n",
      "96 : 83621143489848422977\n",
      "97 : 135301852344706746049\n",
      "98 : 218922995834555169026\n",
      "99 : 354224848179261915075\n"
     ]
    }
   ],
   "source": [
    "for n in range (1, 100):\n",
    "    print(n, \":\", fibo_cv(n))"
   ]
  },
  {
   "cell_type": "markdown",
   "metadata": {},
   "source": [
    "## Python Memoization - using lru_cache \n",
    "### lru -> Least Recently Used Cache"
   ]
  },
  {
   "cell_type": "code",
   "execution_count": 14,
   "metadata": {},
   "outputs": [],
   "source": [
    "# Fibonacci Number\n",
    "# 3! = 3*2*1\n",
    "# Using Memoization \n",
    "from functools import lru_cache\n",
    "\n",
    "@lru_cache(maxsize = 500) #500 values of this function it'will cache      \n",
    "def fibo(n):\n",
    "    if n == 1:\n",
    "        return 1\n",
    "    elif n == 2:\n",
    "        return 2\n",
    "    elif n>2:\n",
    "        return fibo(n-1) + fibo(n-2)"
   ]
  },
  {
   "cell_type": "code",
   "execution_count": 13,
   "metadata": {},
   "outputs": [
    {
     "name": "stdout",
     "output_type": "stream",
     "text": [
      "1 : 1\n",
      "2 : 2\n",
      "3 : 3\n",
      "4 : 5\n",
      "5 : 8\n",
      "6 : 13\n",
      "7 : 21\n",
      "8 : 34\n",
      "9 : 55\n",
      "10 : 89\n",
      "11 : 144\n",
      "12 : 233\n",
      "13 : 377\n",
      "14 : 610\n",
      "15 : 987\n",
      "16 : 1597\n",
      "17 : 2584\n",
      "18 : 4181\n",
      "19 : 6765\n",
      "20 : 10946\n",
      "21 : 17711\n",
      "22 : 28657\n",
      "23 : 46368\n",
      "24 : 75025\n",
      "25 : 121393\n",
      "26 : 196418\n",
      "27 : 317811\n",
      "28 : 514229\n",
      "29 : 832040\n",
      "30 : 1346269\n",
      "31 : 2178309\n",
      "32 : 3524578\n",
      "33 : 5702887\n",
      "34 : 9227465\n",
      "35 : 14930352\n",
      "36 : 24157817\n",
      "37 : 39088169\n",
      "38 : 63245986\n",
      "39 : 102334155\n",
      "40 : 165580141\n",
      "41 : 267914296\n",
      "42 : 433494437\n",
      "43 : 701408733\n",
      "44 : 1134903170\n",
      "45 : 1836311903\n",
      "46 : 2971215073\n",
      "47 : 4807526976\n",
      "48 : 7778742049\n",
      "49 : 12586269025\n",
      "50 : 20365011074\n",
      "51 : 32951280099\n",
      "52 : 53316291173\n",
      "53 : 86267571272\n",
      "54 : 139583862445\n",
      "55 : 225851433717\n",
      "56 : 365435296162\n",
      "57 : 591286729879\n",
      "58 : 956722026041\n",
      "59 : 1548008755920\n",
      "60 : 2504730781961\n",
      "61 : 4052739537881\n",
      "62 : 6557470319842\n",
      "63 : 10610209857723\n",
      "64 : 17167680177565\n",
      "65 : 27777890035288\n",
      "66 : 44945570212853\n",
      "67 : 72723460248141\n",
      "68 : 117669030460994\n",
      "69 : 190392490709135\n",
      "70 : 308061521170129\n",
      "71 : 498454011879264\n",
      "72 : 806515533049393\n",
      "73 : 1304969544928657\n",
      "74 : 2111485077978050\n",
      "75 : 3416454622906707\n",
      "76 : 5527939700884757\n",
      "77 : 8944394323791464\n",
      "78 : 14472334024676221\n",
      "79 : 23416728348467685\n",
      "80 : 37889062373143906\n",
      "81 : 61305790721611591\n",
      "82 : 99194853094755497\n",
      "83 : 160500643816367088\n",
      "84 : 259695496911122585\n",
      "85 : 420196140727489673\n",
      "86 : 679891637638612258\n",
      "87 : 1100087778366101931\n",
      "88 : 1779979416004714189\n",
      "89 : 2880067194370816120\n",
      "90 : 4660046610375530309\n",
      "91 : 7540113804746346429\n",
      "92 : 12200160415121876738\n",
      "93 : 19740274219868223167\n",
      "94 : 31940434634990099905\n",
      "95 : 51680708854858323072\n",
      "96 : 83621143489848422977\n",
      "97 : 135301852344706746049\n",
      "98 : 218922995834555169026\n",
      "99 : 354224848179261915075\n"
     ]
    }
   ],
   "source": [
    "for n in range (1, 100):\n",
    "    print(n, \":\", fibo(n))"
   ]
  },
  {
   "cell_type": "markdown",
   "metadata": {},
   "source": [
    "## Linear Search"
   ]
  },
  {
   "cell_type": "code",
   "execution_count": 31,
   "metadata": {},
   "outputs": [],
   "source": [
    "a = np.random.randint(5, 55, 10)"
   ]
  },
  {
   "cell_type": "code",
   "execution_count": 32,
   "metadata": {},
   "outputs": [
    {
     "data": {
      "text/plain": [
       "array([46,  5, 17, 23, 46, 52, 19, 27, 15, 25])"
      ]
     },
     "execution_count": 32,
     "metadata": {},
     "output_type": "execute_result"
    }
   ],
   "source": [
    "a"
   ]
  },
  {
   "cell_type": "code",
   "execution_count": 33,
   "metadata": {},
   "outputs": [],
   "source": [
    "b = a.copy()"
   ]
  },
  {
   "cell_type": "code",
   "execution_count": 35,
   "metadata": {},
   "outputs": [],
   "source": [
    "b = b.tolist()"
   ]
  },
  {
   "cell_type": "code",
   "execution_count": 36,
   "metadata": {},
   "outputs": [
    {
     "data": {
      "text/plain": [
       "[46, 5, 17, 23, 46, 52, 19, 27, 15, 25]"
      ]
     },
     "execution_count": 36,
     "metadata": {},
     "output_type": "execute_result"
    }
   ],
   "source": [
    "b"
   ]
  },
  {
   "cell_type": "code",
   "execution_count": 63,
   "metadata": {},
   "outputs": [],
   "source": [
    "def linear_search(l, t):\n",
    "    for i in l:\n",
    "        if i==t:\n",
    "            found = t\n",
    "            return f\"{t} found in the lit\"\n",
    "    return f\"{t} is not found in {l}\""
   ]
  },
  {
   "cell_type": "code",
   "execution_count": 64,
   "metadata": {},
   "outputs": [
    {
     "data": {
      "text/plain": [
       "'19 found in the lit'"
      ]
     },
     "execution_count": 64,
     "metadata": {},
     "output_type": "execute_result"
    }
   ],
   "source": [
    "linear_search(b, 19)"
   ]
  },
  {
   "cell_type": "code",
   "execution_count": 65,
   "metadata": {},
   "outputs": [],
   "source": [
    "# Or Using Index position\n",
    "def linear_search1(l, t):\n",
    "    for i in range(0, len(l)-1):\n",
    "        if l[i] == t:\n",
    "            found = t\n",
    "            return f\"{found} is found at index {i}\"\n",
    "    return f\"{t} is not found in the list {l}\""
   ]
  },
  {
   "cell_type": "code",
   "execution_count": 66,
   "metadata": {},
   "outputs": [
    {
     "data": {
      "text/plain": [
       "'10 is not found in [46, 5, 17, 23, 46, 52, 19, 27, 15, 25]'"
      ]
     },
     "execution_count": 66,
     "metadata": {},
     "output_type": "execute_result"
    }
   ],
   "source": [
    "linear_search(b, 10)"
   ]
  },
  {
   "cell_type": "code",
   "execution_count": 67,
   "metadata": {},
   "outputs": [
    {
     "data": {
      "text/plain": [
       "'10 is not found in the list [46, 5, 17, 23, 46, 52, 19, 27, 15, 25]'"
      ]
     },
     "execution_count": 67,
     "metadata": {},
     "output_type": "execute_result"
    }
   ],
   "source": [
    "linear_search1(b, 10)"
   ]
  },
  {
   "cell_type": "code",
   "execution_count": 68,
   "metadata": {},
   "outputs": [
    {
     "data": {
      "text/plain": [
       "'19 is found at index 6'"
      ]
     },
     "execution_count": 68,
     "metadata": {},
     "output_type": "execute_result"
    }
   ],
   "source": [
    "linear_search1(b, 19)"
   ]
  },
  {
   "cell_type": "markdown",
   "metadata": {},
   "source": [
    "## Binary Search"
   ]
  },
  {
   "cell_type": "code",
   "execution_count": 71,
   "metadata": {},
   "outputs": [],
   "source": [
    "def binary_search(l, t):\n",
    "    first = 0\n",
    "    last = len(l)-1\n",
    "    \n",
    "    while first <= last:\n",
    "        mid = (len(l)-1)//2 # floor div\n",
    "        \n",
    "        if l[mid] == t:\n",
    "            return f\"{t} found at index {mid}\"\n",
    "        elif l[mid] < t:\n",
    "            first = mid + 1\n",
    "        else:\n",
    "            last = mid -1\n",
    "    return f\"{t} found in the {l}\"\n",
    "        \n",
    "        "
   ]
  },
  {
   "cell_type": "code",
   "execution_count": null,
   "metadata": {},
   "outputs": [],
   "source": []
  }
 ],
 "metadata": {
  "kernelspec": {
   "display_name": "Python 3",
   "language": "python",
   "name": "python3"
  },
  "language_info": {
   "codemirror_mode": {
    "name": "ipython",
    "version": 3
   },
   "file_extension": ".py",
   "mimetype": "text/x-python",
   "name": "python",
   "nbconvert_exporter": "python",
   "pygments_lexer": "ipython3",
   "version": "3.8.3"
  }
 },
 "nbformat": 4,
 "nbformat_minor": 4
}
